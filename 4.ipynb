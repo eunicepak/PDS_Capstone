{
 "cells": [
  {
   "cell_type": "code",
   "execution_count": 1,
   "id": "1706aa91",
   "metadata": {},
   "outputs": [],
   "source": [
    "# Do people who are only children enjoy ‘The Lion King (1994)’ more than people with siblings?\n",
    "\n",
    "\"\"\"\n",
    "1. Load the data \n",
    "1a. Extract movie ratings for 'The Lion King (1994)' and \"only child\" column (476)\n",
    "\n",
    "2. Data Cleaning\n",
    "2a. Remove all NaN values, row-wise\n",
    "2b. Remove where only child = -1, row-wise\n",
    "2c. Split the data into two groups: 1. only child, 2. with siblings \n",
    "2c. Get the median for both groups (descriptive statistics)\n",
    "\n",
    "3. Mann-Whitney U test\n",
    "\n",
    "4. Plotting the data\n",
    "\n",
    "\"\"\""
   ]
  },
  {
   "cell_type": "code",
   "execution_count": 1,
   "id": "61ad1394",
   "metadata": {},
   "outputs": [],
   "source": [
    "import numpy as np\n",
    "import pandas as pd\n",
    "from scipy import stats\n",
    "import matplotlib.pyplot as plt"
   ]
  },
  {
   "cell_type": "code",
   "execution_count": 2,
   "id": "9f8f6d17",
   "metadata": {},
   "outputs": [
    {
     "name": "stderr",
     "output_type": "stream",
     "text": [
      "/Users/eunicepak/opt/anaconda3/lib/python3.9/site-packages/pandas/core/frame.py:5039: SettingWithCopyWarning: \n",
      "A value is trying to be set on a copy of a slice from a DataFrame\n",
      "\n",
      "See the caveats in the documentation: https://pandas.pydata.org/pandas-docs/stable/user_guide/indexing.html#returning-a-view-versus-a-copy\n",
      "  return super().rename(\n"
     ]
    },
    {
     "data": {
      "text/html": [
       "<div>\n",
       "<style scoped>\n",
       "    .dataframe tbody tr th:only-of-type {\n",
       "        vertical-align: middle;\n",
       "    }\n",
       "\n",
       "    .dataframe tbody tr th {\n",
       "        vertical-align: top;\n",
       "    }\n",
       "\n",
       "    .dataframe thead th {\n",
       "        text-align: right;\n",
       "    }\n",
       "</style>\n",
       "<table border=\"1\" class=\"dataframe\">\n",
       "  <thead>\n",
       "    <tr style=\"text-align: right;\">\n",
       "      <th></th>\n",
       "      <th>The Lion King (1994)</th>\n",
       "      <th>Only Child?</th>\n",
       "    </tr>\n",
       "  </thead>\n",
       "  <tbody>\n",
       "    <tr>\n",
       "      <th>0</th>\n",
       "      <td>4.0</td>\n",
       "      <td>0</td>\n",
       "    </tr>\n",
       "    <tr>\n",
       "      <th>1</th>\n",
       "      <td>NaN</td>\n",
       "      <td>0</td>\n",
       "    </tr>\n",
       "    <tr>\n",
       "      <th>2</th>\n",
       "      <td>4.0</td>\n",
       "      <td>1</td>\n",
       "    </tr>\n",
       "    <tr>\n",
       "      <th>3</th>\n",
       "      <td>3.0</td>\n",
       "      <td>0</td>\n",
       "    </tr>\n",
       "    <tr>\n",
       "      <th>4</th>\n",
       "      <td>4.0</td>\n",
       "      <td>1</td>\n",
       "    </tr>\n",
       "  </tbody>\n",
       "</table>\n",
       "</div>"
      ],
      "text/plain": [
       "   The Lion King (1994)  Only Child?\n",
       "0                   4.0            0\n",
       "1                   NaN            0\n",
       "2                   4.0            1\n",
       "3                   3.0            0\n",
       "4                   4.0            1"
      ]
     },
     "execution_count": 2,
     "metadata": {},
     "output_type": "execute_result"
    }
   ],
   "source": [
    "# 1. Load the data \n",
    "df = pd.read_csv('movieReplicationSet.csv', sep=',')\n",
    "\n",
    "# 1a. Extract all movie ratings (1-400) and \"only child\" column (476)\n",
    "data = df[['The Lion King (1994)', 'Are you an only child? (1: Yes; 0: No; -1: Did not respond)']]\n",
    "data.rename(columns = {'Are you an only child? (1: Yes; 0: No; -1: Did not respond)' : 'Only Child?'}, inplace = True)\n",
    "data.head(5)"
   ]
  },
  {
   "cell_type": "code",
   "execution_count": 3,
   "id": "71e0344b",
   "metadata": {},
   "outputs": [
    {
     "data": {
      "text/plain": [
       "(3.5, 4.0)"
      ]
     },
     "execution_count": 3,
     "metadata": {},
     "output_type": "execute_result"
    }
   ],
   "source": [
    "# 2. Data Cleaning\n",
    "# 2a. Remove all NaN values, row-wise\n",
    "data_ = data.dropna()\n",
    "\n",
    "# 2b. Remove where only child = -1, row-wise\n",
    "data_cleaned = data_[data_['Only Child?'] != -1]\n",
    "\n",
    "# 2c. Split the data into two groups: D1 = only child, D2 = with siblings \n",
    "D1 = data_cleaned[data_cleaned['Only Child?'] == 1]\n",
    "D2 = data_cleaned[data_cleaned['Only Child?'] == 0]\n",
    "\n",
    "# 2d. Get the median for both groups (descriptive statistics)\n",
    "D1_med = np.median(D1['The Lion King (1994)'])  # only child\n",
    "D2_med = np.median(D2['The Lion King (1994)'])  # with sibilings\n",
    "\n",
    "\n",
    "# D1: only child # D2: siblings\n",
    "D1_med, D2_med"
   ]
  },
  {
   "cell_type": "code",
   "execution_count": 4,
   "id": "7428576b",
   "metadata": {},
   "outputs": [
    {
     "data": {
      "text/plain": [
       "(151, 2)"
      ]
     },
     "execution_count": 4,
     "metadata": {},
     "output_type": "execute_result"
    }
   ],
   "source": [
    "D1.shape"
   ]
  },
  {
   "cell_type": "code",
   "execution_count": 5,
   "id": "29b36289",
   "metadata": {},
   "outputs": [
    {
     "data": {
      "text/plain": [
       "(776, 2)"
      ]
     },
     "execution_count": 5,
     "metadata": {},
     "output_type": "execute_result"
    }
   ],
   "source": [
    "D2.shape"
   ]
  },
  {
   "cell_type": "code",
   "execution_count": 35,
   "id": "98662988",
   "metadata": {},
   "outputs": [],
   "source": [
    "# 3. Mann-Whitney U test\n",
    "u,p = stats.mannwhitneyu(D1['The Lion King (1994)'], D2['The Lion King (1994)'])"
   ]
  },
  {
   "cell_type": "code",
   "execution_count": 36,
   "id": "c589050b",
   "metadata": {},
   "outputs": [
    {
     "data": {
      "text/plain": [
       "(52929.0, 0.04319872995682849)"
      ]
     },
     "execution_count": 36,
     "metadata": {},
     "output_type": "execute_result"
    }
   ],
   "source": [
    "u,p"
   ]
  },
  {
   "cell_type": "code",
   "execution_count": 37,
   "id": "4c73fd69",
   "metadata": {},
   "outputs": [
    {
     "data": {
      "image/png": "[encoded data removed]",
      "text/plain": [
       "<Figure size 432x288 with 2 Axes>"
      ]
     },
     "metadata": {
      "needs_background": "light"
     },
     "output_type": "display_data"
    }
   ],
   "source": [
    "plt.subplot(2,1,1)\n",
    "plt.hist(D1['The Lion King (1994)'], bins=5)\n",
    "plt.subplot(2,1,2)\n",
    "plt.hist(D2['The Lion King (1994)'], bins=5)\n",
    "plt.show()"
   ]
  }
 ],
 "metadata": {
  "kernelspec": {
   "display_name": "Python 3 (ipykernel)",
   "language": "python",
   "name": "python3"
  },
  "language_info": {
   "codemirror_mode": {
    "name": "ipython",
    "version": 3
   },
   "file_extension": ".py",
   "mimetype": "text/x-python",
   "name": "python",
   "nbconvert_exporter": "python",
   "pygments_lexer": "ipython3",
   "version": "3.11.4"
  }
 },
 "nbformat": 4,
 "nbformat_minor": 5
}
