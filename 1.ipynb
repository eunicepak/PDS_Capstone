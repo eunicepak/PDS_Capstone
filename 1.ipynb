{
 "cells": [
  {
   "cell_type": "code",
   "execution_count": null,
   "id": "c92c85d2",
   "metadata": {},
   "outputs": [],
   "source": [
    "# What is the relationship between sensation seeking and movie experience?\n",
    "\n",
    "# 1. Load the data, both sensation seeking and movie experience\n",
    "# 2. Exploring data frames\n",
    "# 3. Correlation heatmap \n",
    "    # 3a. sensation seeking \n",
    "    # 3b. movie experience\n",
    "# 4. Scaling and centering the data before PCA\n",
    "    # 4a. sensation seeking \n",
    "    # 4b. movie experience\n",
    "# 5. PCA: getting eigenvalues, loading scores, and rotated data\n",
    "    # 5a. sensation seeking \n",
    "    # 5b. movie experience\n",
    "# 6. Screeplot and choosing the factors\n",
    "    # 6a. sensation seeking \n",
    "    # 6b. movie experience\n",
    "# 7. Interpreting the factors by plotting\n",
    "    # 7a. sensation seeking \n",
    "    # 7b. movie experience\n",
    "# 8. Storing both of the transformed data in terms of their factor values \n",
    "# 9. Correlate the two data from #8, respectively"
   ]
  },
  {
   "cell_type": "code",
   "execution_count": 2,
   "id": "8ce966db",
   "metadata": {},
   "outputs": [],
   "source": [
    "# 0. Init\n",
    "import numpy as np\n",
    "import pandas as pd\n",
    "import matplotlib.pyplot as plt\n",
    "from scipy import stats\n",
    "from sklearn.decomposition import PCA"
   ]
  },
  {
   "cell_type": "code",
   "execution_count": 38,
   "id": "e69c97d7",
   "metadata": {},
   "outputs": [
    {
     "data": {
      "text/html": [
       "<div>\n",
       "<style scoped>\n",
       "    .dataframe tbody tr th:only-of-type {\n",
       "        vertical-align: middle;\n",
       "    }\n",
       "\n",
       "    .dataframe tbody tr th {\n",
       "        vertical-align: top;\n",
       "    }\n",
       "\n",
       "    .dataframe thead th {\n",
       "        text-align: right;\n",
       "    }\n",
       "</style>\n",
       "<table border=\"1\" class=\"dataframe\">\n",
       "  <thead>\n",
       "    <tr style=\"text-align: right;\">\n",
       "      <th></th>\n",
       "      <th>I have cried during a movie</th>\n",
       "      <th>I have trouble following the story of a movie</th>\n",
       "      <th>I have trouble remembering the story of a movie a couple of days after seeing it</th>\n",
       "      <th>When watching a movie I cheer or shout or talk or curse at the screen</th>\n",
       "      <th>When watching a movie I feel like the things on the screen are happening to me</th>\n",
       "      <th>As a movie unfolds I start to have problems keeping track of events that happened earlier</th>\n",
       "      <th>The emotions on the screen \"rub off\" on me - for instance if something sad is happening I get sad or if something frightening is happening I get scared</th>\n",
       "      <th>When watching a movie I get completely immersed in the alternative reality of the film</th>\n",
       "      <th>Movies change my position on social economic or political issues</th>\n",
       "      <th>When watching movies things get so intense that I have to stop watching</th>\n",
       "    </tr>\n",
       "  </thead>\n",
       "  <tbody>\n",
       "    <tr>\n",
       "      <th>0</th>\n",
       "      <td>3.0</td>\n",
       "      <td>4.0</td>\n",
       "      <td>1.0</td>\n",
       "      <td>1.0</td>\n",
       "      <td>6.0</td>\n",
       "      <td>2.0</td>\n",
       "      <td>5.0</td>\n",
       "      <td>5.0</td>\n",
       "      <td>5.0</td>\n",
       "      <td>1.0</td>\n",
       "    </tr>\n",
       "    <tr>\n",
       "      <th>1</th>\n",
       "      <td>5.0</td>\n",
       "      <td>3.0</td>\n",
       "      <td>1.0</td>\n",
       "      <td>3.0</td>\n",
       "      <td>1.0</td>\n",
       "      <td>1.0</td>\n",
       "      <td>6.0</td>\n",
       "      <td>5.0</td>\n",
       "      <td>3.0</td>\n",
       "      <td>2.0</td>\n",
       "    </tr>\n",
       "    <tr>\n",
       "      <th>2</th>\n",
       "      <td>4.0</td>\n",
       "      <td>3.0</td>\n",
       "      <td>1.0</td>\n",
       "      <td>5.0</td>\n",
       "      <td>4.0</td>\n",
       "      <td>3.0</td>\n",
       "      <td>5.0</td>\n",
       "      <td>5.0</td>\n",
       "      <td>4.0</td>\n",
       "      <td>4.0</td>\n",
       "    </tr>\n",
       "    <tr>\n",
       "      <th>3</th>\n",
       "      <td>4.0</td>\n",
       "      <td>1.0</td>\n",
       "      <td>1.0</td>\n",
       "      <td>3.0</td>\n",
       "      <td>1.0</td>\n",
       "      <td>1.0</td>\n",
       "      <td>4.0</td>\n",
       "      <td>5.0</td>\n",
       "      <td>3.0</td>\n",
       "      <td>1.0</td>\n",
       "    </tr>\n",
       "    <tr>\n",
       "      <th>4</th>\n",
       "      <td>4.0</td>\n",
       "      <td>3.0</td>\n",
       "      <td>4.0</td>\n",
       "      <td>2.0</td>\n",
       "      <td>3.0</td>\n",
       "      <td>2.0</td>\n",
       "      <td>5.0</td>\n",
       "      <td>6.0</td>\n",
       "      <td>4.0</td>\n",
       "      <td>4.0</td>\n",
       "    </tr>\n",
       "    <tr>\n",
       "      <th>...</th>\n",
       "      <td>...</td>\n",
       "      <td>...</td>\n",
       "      <td>...</td>\n",
       "      <td>...</td>\n",
       "      <td>...</td>\n",
       "      <td>...</td>\n",
       "      <td>...</td>\n",
       "      <td>...</td>\n",
       "      <td>...</td>\n",
       "      <td>...</td>\n",
       "    </tr>\n",
       "    <tr>\n",
       "      <th>1092</th>\n",
       "      <td>5.0</td>\n",
       "      <td>4.0</td>\n",
       "      <td>3.0</td>\n",
       "      <td>3.0</td>\n",
       "      <td>4.0</td>\n",
       "      <td>3.0</td>\n",
       "      <td>5.0</td>\n",
       "      <td>5.0</td>\n",
       "      <td>4.0</td>\n",
       "      <td>4.0</td>\n",
       "    </tr>\n",
       "    <tr>\n",
       "      <th>1093</th>\n",
       "      <td>5.0</td>\n",
       "      <td>4.0</td>\n",
       "      <td>5.0</td>\n",
       "      <td>5.0</td>\n",
       "      <td>3.0</td>\n",
       "      <td>5.0</td>\n",
       "      <td>5.0</td>\n",
       "      <td>5.0</td>\n",
       "      <td>6.0</td>\n",
       "      <td>5.0</td>\n",
       "    </tr>\n",
       "    <tr>\n",
       "      <th>1094</th>\n",
       "      <td>4.0</td>\n",
       "      <td>2.0</td>\n",
       "      <td>3.0</td>\n",
       "      <td>6.0</td>\n",
       "      <td>3.0</td>\n",
       "      <td>1.0</td>\n",
       "      <td>6.0</td>\n",
       "      <td>6.0</td>\n",
       "      <td>4.0</td>\n",
       "      <td>2.0</td>\n",
       "    </tr>\n",
       "    <tr>\n",
       "      <th>1095</th>\n",
       "      <td>5.0</td>\n",
       "      <td>5.0</td>\n",
       "      <td>3.0</td>\n",
       "      <td>1.0</td>\n",
       "      <td>1.0</td>\n",
       "      <td>1.0</td>\n",
       "      <td>4.0</td>\n",
       "      <td>3.0</td>\n",
       "      <td>3.0</td>\n",
       "      <td>1.0</td>\n",
       "    </tr>\n",
       "    <tr>\n",
       "      <th>1096</th>\n",
       "      <td>5.0</td>\n",
       "      <td>3.0</td>\n",
       "      <td>4.0</td>\n",
       "      <td>3.0</td>\n",
       "      <td>4.0</td>\n",
       "      <td>1.0</td>\n",
       "      <td>4.0</td>\n",
       "      <td>4.0</td>\n",
       "      <td>4.0</td>\n",
       "      <td>1.0</td>\n",
       "    </tr>\n",
       "  </tbody>\n",
       "</table>\n",
       "<p>1029 rows × 10 columns</p>\n",
       "</div>"
      ],
      "text/plain": [
       "      I have cried during a movie  \\\n",
       "0                             3.0   \n",
       "1                             5.0   \n",
       "2                             4.0   \n",
       "3                             4.0   \n",
       "4                             4.0   \n",
       "...                           ...   \n",
       "1092                          5.0   \n",
       "1093                          5.0   \n",
       "1094                          4.0   \n",
       "1095                          5.0   \n",
       "1096                          5.0   \n",
       "\n",
       "      I have trouble following the story of a movie  \\\n",
       "0                                               4.0   \n",
       "1                                               3.0   \n",
       "2                                               3.0   \n",
       "3                                               1.0   \n",
       "4                                               3.0   \n",
       "...                                             ...   \n",
       "1092                                            4.0   \n",
       "1093                                            4.0   \n",
       "1094                                            2.0   \n",
       "1095                                            5.0   \n",
       "1096                                            3.0   \n",
       "\n",
       "      I have trouble remembering the story of a movie a couple of days after seeing it  \\\n",
       "0                                                   1.0                                  \n",
       "1                                                   1.0                                  \n",
       "2                                                   1.0                                  \n",
       "3                                                   1.0                                  \n",
       "4                                                   4.0                                  \n",
       "...                                                 ...                                  \n",
       "1092                                                3.0                                  \n",
       "1093                                                5.0                                  \n",
       "1094                                                3.0                                  \n",
       "1095                                                3.0                                  \n",
       "1096                                                4.0                                  \n",
       "\n",
       "      When watching a movie I cheer or shout or talk or curse at the screen  \\\n",
       "0                                                   1.0                       \n",
       "1                                                   3.0                       \n",
       "2                                                   5.0                       \n",
       "3                                                   3.0                       \n",
       "4                                                   2.0                       \n",
       "...                                                 ...                       \n",
       "1092                                                3.0                       \n",
       "1093                                                5.0                       \n",
       "1094                                                6.0                       \n",
       "1095                                                1.0                       \n",
       "1096                                                3.0                       \n",
       "\n",
       "      When watching a movie I feel like the things on the screen are happening to me  \\\n",
       "0                                                   6.0                                \n",
       "1                                                   1.0                                \n",
       "2                                                   4.0                                \n",
       "3                                                   1.0                                \n",
       "4                                                   3.0                                \n",
       "...                                                 ...                                \n",
       "1092                                                4.0                                \n",
       "1093                                                3.0                                \n",
       "1094                                                3.0                                \n",
       "1095                                                1.0                                \n",
       "1096                                                4.0                                \n",
       "\n",
       "      As a movie unfolds I start to have problems keeping track of events that happened earlier  \\\n",
       "0                                                   2.0                                           \n",
       "1                                                   1.0                                           \n",
       "2                                                   3.0                                           \n",
       "3                                                   1.0                                           \n",
       "4                                                   2.0                                           \n",
       "...                                                 ...                                           \n",
       "1092                                                3.0                                           \n",
       "1093                                                5.0                                           \n",
       "1094                                                1.0                                           \n",
       "1095                                                1.0                                           \n",
       "1096                                                1.0                                           \n",
       "\n",
       "      The emotions on the screen \"rub off\" on me - for instance if something sad is happening I get sad or if something frightening is happening I get scared  \\\n",
       "0                                                   5.0                                                                                                         \n",
       "1                                                   6.0                                                                                                         \n",
       "2                                                   5.0                                                                                                         \n",
       "3                                                   4.0                                                                                                         \n",
       "4                                                   5.0                                                                                                         \n",
       "...                                                 ...                                                                                                         \n",
       "1092                                                5.0                                                                                                         \n",
       "1093                                                5.0                                                                                                         \n",
       "1094                                                6.0                                                                                                         \n",
       "1095                                                4.0                                                                                                         \n",
       "1096                                                4.0                                                                                                         \n",
       "\n",
       "      When watching a movie I get completely immersed in the alternative reality of the film  \\\n",
       "0                                                   5.0                                        \n",
       "1                                                   5.0                                        \n",
       "2                                                   5.0                                        \n",
       "3                                                   5.0                                        \n",
       "4                                                   6.0                                        \n",
       "...                                                 ...                                        \n",
       "1092                                                5.0                                        \n",
       "1093                                                5.0                                        \n",
       "1094                                                6.0                                        \n",
       "1095                                                3.0                                        \n",
       "1096                                                4.0                                        \n",
       "\n",
       "      Movies change my position on social economic or political issues  \\\n",
       "0                                                   5.0                  \n",
       "1                                                   3.0                  \n",
       "2                                                   4.0                  \n",
       "3                                                   3.0                  \n",
       "4                                                   4.0                  \n",
       "...                                                 ...                  \n",
       "1092                                                4.0                  \n",
       "1093                                                6.0                  \n",
       "1094                                                4.0                  \n",
       "1095                                                3.0                  \n",
       "1096                                                4.0                  \n",
       "\n",
       "      When watching movies things get so intense that I have to stop watching  \n",
       "0                                                   1.0                        \n",
       "1                                                   2.0                        \n",
       "2                                                   4.0                        \n",
       "3                                                   1.0                        \n",
       "4                                                   4.0                        \n",
       "...                                                 ...                        \n",
       "1092                                                4.0                        \n",
       "1093                                                5.0                        \n",
       "1094                                                2.0                        \n",
       "1095                                                1.0                        \n",
       "1096                                                1.0                        \n",
       "\n",
       "[1029 rows x 10 columns]"
      ]
     },
     "execution_count": 38,
     "metadata": {},
     "output_type": "execute_result"
    }
   ],
   "source": [
    "# 1. Load the data, both sensation seeking and movie experience\n",
    "df = pd.read_csv('movieReplicationSet.csv', sep=',')\n",
    "\n",
    "df1 = df.iloc[:, 400:420]\n",
    "df2 = df.iloc[:,464:474]\n",
    "\n",
    "data = pd.concat([df1, df2], axis=1).dropna()\n",
    "\n",
    "sensation_seeking = data.iloc[:,0:20]\n",
    "movie_experience = data.iloc[:,20:]\n",
    "\n",
    "movie_experience"
   ]
  },
  {
   "cell_type": "code",
   "execution_count": 4,
   "id": "a97eb0cd",
   "metadata": {},
   "outputs": [],
   "source": [
    "# 2. Exploring data frames\n",
    "predictors_1 = sensation_seeking.to_numpy() # sensation seeking\n",
    "predictors_2 = movie_experience.to_numpy() # movie experience"
   ]
  },
  {
   "cell_type": "code",
   "execution_count": 5,
   "id": "405e17ba",
   "metadata": {},
   "outputs": [
    {
     "data": {
      "image/png": "[encoded data removed]",
      "text/plain": [
       "<Figure size 432x288 with 2 Axes>"
      ]
     },
     "metadata": {
      "needs_background": "light"
     },
     "output_type": "display_data"
    }
   ],
   "source": [
    "# 3. Correlation heatmap \n",
    "# 3a. sensation seeking \n",
    "r = np.corrcoef(predictors_1,rowvar=False)\n",
    "plt.imshow(r) \n",
    "plt.colorbar()\n",
    "plt.title('Correlation Heatmap: Sensation Seeking')\n",
    "plt.show()"
   ]
  },
  {
   "cell_type": "code",
   "execution_count": 6,
   "id": "db5cc87c",
   "metadata": {},
   "outputs": [
    {
     "data": {
      "image/png": "[encoded data removed]",
      "text/plain": [
       "<Figure size 432x288 with 2 Axes>"
      ]
     },
     "metadata": {
      "needs_background": "light"
     },
     "output_type": "display_data"
    }
   ],
   "source": [
    "# 3b. movie experience\n",
    "r = np.corrcoef(predictors_2,rowvar=False)\n",
    "plt.imshow(r) \n",
    "plt.colorbar()\n",
    "plt.title('Correlation Heatmap: Movie Experience')\n",
    "plt.show()"
   ]
  },
  {
   "cell_type": "code",
   "execution_count": 7,
   "id": "e109fd8e",
   "metadata": {},
   "outputs": [],
   "source": [
    "# 4. Scaling and centering the data before PCA\n",
    "zscoredData_1 = stats.zscore(predictors_1) # 4a. sensation seeking \n",
    "zscoredData_2 = stats.zscore(predictors_2) # 4b. movie experience"
   ]
  },
  {
   "cell_type": "code",
   "execution_count": 8,
   "id": "e802e5c3",
   "metadata": {},
   "outputs": [],
   "source": [
    "# 5. PCA: getting eigenvalues, loading scores, and rotated data\n",
    "# 5a. sensation seeking \n",
    "pca = PCA().fit(zscoredData_1)\n",
    "eigVals_1 = pca.explained_variance_ # eigenvalues\n",
    "loadings_1 = pca.components_*-1 # loadings\n",
    "pcaData_1 = pca.fit_transform(zscoredData_1)*-1 # rotated data"
   ]
  },
  {
   "cell_type": "code",
   "execution_count": 9,
   "id": "d2bb9aa6",
   "metadata": {},
   "outputs": [],
   "source": [
    "# 5b. movie experience\n",
    "pca = PCA().fit(zscoredData_2)\n",
    "eigVals_2 = pca.explained_variance_ # eigenvalues\n",
    "loadings_2 = pca.components_*-1 # loadings\n",
    "pcaData_2 = pca.fit_transform(zscoredData_2)*-1 # rotated data"
   ]
  },
  {
   "cell_type": "code",
   "execution_count": 10,
   "id": "c8474f5f",
   "metadata": {},
   "outputs": [
    {
     "data": {
      "image/png": "[encoded data removed]",
      "text/plain": [
       "<Figure size 432x288 with 1 Axes>"
      ]
     },
     "metadata": {
      "needs_background": "light"
     },
     "output_type": "display_data"
    }
   ],
   "source": [
    "# 6. Screeplot and choosing the factors\n",
    "# 6a. sensation seeking: 6 factors\n",
    "numPredictors_1 = 20\n",
    "x_1 = np.linspace(1, numPredictors_1, numPredictors_1)\n",
    "plt.bar(x_1, eigVals_1, color='gray')\n",
    "plt.plot([0, numPredictors_1],[1,1],color='red') \n",
    "plt.ylabel('Eigenvalue')\n",
    "plt.xlabel('Principal Component')\n",
    "plt.title('Scree Plot: Sensation Seeking')\n",
    "plt.show()"
   ]
  },
  {
   "cell_type": "code",
   "execution_count": 11,
   "id": "92cc280e",
   "metadata": {},
   "outputs": [
    {
     "data": {
      "image/png": "[encoded data removed]",
      "text/plain": [
       "<Figure size 432x288 with 1 Axes>"
      ]
     },
     "metadata": {
      "needs_background": "light"
     },
     "output_type": "display_data"
    }
   ],
   "source": [
    "# 6b. movie experience: 2 factors\n",
    "numPredictors_2 = 10\n",
    "x_2 = np.linspace(1, numPredictors_2, numPredictors_2)\n",
    "plt.bar(x_2, eigVals_2, color='gray')\n",
    "plt.plot([0, numPredictors_2],[1,1],color='red') \n",
    "plt.ylabel('Eigenvalue')\n",
    "plt.xlabel('Principal Component')\n",
    "plt.title('Scree Plot: Movie Experience')\n",
    "plt.show()"
   ]
  },
  {
   "cell_type": "code",
   "execution_count": 12,
   "id": "e9b9fd8e",
   "metadata": {},
   "outputs": [
    {
     "data": {
      "image/png": "[encoded data removed]",
      "text/plain": [
       "<Figure size 720x504 with 6 Axes>"
      ]
     },
     "metadata": {
      "needs_background": "light"
     },
     "output_type": "display_data"
    }
   ],
   "source": [
    "# 7. Interpreting the factors by plotting\n",
    "# 7a. sensation seeking \n",
    "fig,ax = plt.subplots(2,3,figsize=(10,7))\n",
    "fig.tight_layout()\n",
    "\n",
    "ax[0, 0].bar(x_1,loadings_1[0,:])\n",
    "ax[0, 0].set_title('Factor 1')\n",
    "\n",
    "ax[0, 1].bar(x_1,loadings_1[1,:])\n",
    "ax[0, 1].set_title('Factor 2')\n",
    "\n",
    "ax[0, 2].bar(x_1,loadings_1[2,:])\n",
    "ax[0, 2].set_title('Factor 3')\n",
    "\n",
    "ax[1, 0].bar(x_1,loadings_1[3,:])\n",
    "ax[1, 0].set_title('Factor 4')\n",
    "\n",
    "ax[1, 1].bar(x_1,loadings_1[4,:])\n",
    "ax[1, 1].set_title('Factor 5')\n",
    "\n",
    "ax[1, 2].bar(x_1,loadings_1[5,:])\n",
    "ax[1, 2].set_title('Factor 6')\n",
    "\n",
    "plt.show()"
   ]
  },
  {
   "cell_type": "code",
   "execution_count": 13,
   "id": "705b645f",
   "metadata": {},
   "outputs": [
    {
     "data": {
      "image/png": "[encoded data removed]",
      "text/plain": [
       "<Figure size 432x288 with 2 Axes>"
      ]
     },
     "metadata": {
      "needs_background": "light"
     },
     "output_type": "display_data"
    }
   ],
   "source": [
    "# 7b. movie experience\n",
    "plt.subplot(1,2,1) # Factor 1: \n",
    "plt.bar(x_2,loadings_2[0,:]) \n",
    "plt.title('Factor 1')\n",
    "plt.subplot(1,2,2) # Factor 2:\n",
    "plt.bar(x_2,loadings_2[1,:]) \n",
    "plt.title('Factor 2')\n",
    "plt.show()"
   ]
  },
  {
   "cell_type": "code",
   "execution_count": 20,
   "id": "0001098a",
   "metadata": {},
   "outputs": [],
   "source": [
    "# 8. Storing both of the transformed data in terms of their factor values \n",
    "sensation_seeking = np.column_stack((pcaData_1[:,0],pcaData_1[:,1],pcaData_1[:,2],\n",
    "                                     pcaData_1[:,3],pcaData_1[:,4],pcaData_1[:,5]))\n",
    "\n",
    "movie_experience = np.column_stack((pcaData_2[:,0],pcaData_2[:,1]))"
   ]
  },
  {
   "cell_type": "code",
   "execution_count": 37,
   "id": "5824f342",
   "metadata": {},
   "outputs": [
    {
     "data": {
      "text/plain": [
       "array([[ 1.        , -0.13182897],\n",
       "       [-0.13182897,  1.        ]])"
      ]
     },
     "execution_count": 37,
     "metadata": {},
     "output_type": "execute_result"
    }
   ],
   "source": [
    "# 9. Correlate the two data from #8, respectively\n",
    "np.corrcoef(sensation_seeking[:,1], movie_experience[:,0], rowvar=False)"
   ]
  }
 ],
 "metadata": {
  "kernelspec": {
   "display_name": "Python 3.9.7 ('base')",
   "language": "python",
   "name": "python397jvsc74a57bd08af7a8d066b9432c27aa861ca989c334a302b4972589985b2eeb28f423a02b15"
  },
  "language_info": {
   "codemirror_mode": {
    "name": "ipython",
    "version": 3
   },
   "file_extension": ".py",
   "mimetype": "text/x-python",
   "name": "python",
   "nbconvert_exporter": "python",
   "pygments_lexer": "ipython3",
   "version": "3.9.7"
  }
 },
 "nbformat": 4,
 "nbformat_minor": 5
}
