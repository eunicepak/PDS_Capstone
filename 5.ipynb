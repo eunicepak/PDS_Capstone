{
 "cells": [
  {
   "cell_type": "code",
   "execution_count": 3,
   "id": "1df07a3f",
   "metadata": {},
   "outputs": [],
   "source": [
    "# Do people who like to watch movies socially enjoy ‘The Wolf of Wall Street (2013)’ \n",
    "# more than those who prefer to watch them alone?\n",
    "\n",
    "# 1. Load the data \n",
    "# 1a. Extract movie ratings for 'The Wolf of Wall Street (2013)' and \"Social viewing preference\" column (477)\n",
    "    # “movies are best enjoyed alone” (1 = y, 0 = n, -1 = nr)\n",
    "\n",
    "# 2. Data Cleaning\n",
    "# 2a. Remove all NaN values, row-wise\n",
    "# 2b. Remove where social viewing preference = -1, row-wise\n",
    "# 2c. Split the data into two groups: 1. alone (1), 2. together (0)\n",
    "# 2c. Get the median for both groups (descriptive statistics)\n",
    "\n",
    "# 3. Mann-Whitney U test\n",
    "\n",
    "# 4. Plotting the data"
   ]
  },
  {
   "cell_type": "code",
   "execution_count": 1,
   "id": "416028ea",
   "metadata": {},
   "outputs": [],
   "source": [
    "import numpy as np\n",
    "import pandas as pd\n",
    "from scipy import stats\n",
    "import matplotlib.pyplot as plt"
   ]
  },
  {
   "cell_type": "code",
   "execution_count": 2,
   "id": "9f73343e",
   "metadata": {},
   "outputs": [
    {
     "data": {
      "text/html": [
       "<div>\n",
       "<style scoped>\n",
       "    .dataframe tbody tr th:only-of-type {\n",
       "        vertical-align: middle;\n",
       "    }\n",
       "\n",
       "    .dataframe tbody tr th {\n",
       "        vertical-align: top;\n",
       "    }\n",
       "\n",
       "    .dataframe thead th {\n",
       "        text-align: right;\n",
       "    }\n",
       "</style>\n",
       "<table border=\"1\" class=\"dataframe\">\n",
       "  <thead>\n",
       "    <tr style=\"text-align: right;\">\n",
       "      <th></th>\n",
       "      <th>The Wolf of Wall Street (2013)</th>\n",
       "      <th>Movies are best enjoyed alone (1: Yes; 0: No; -1: Did not respond)</th>\n",
       "    </tr>\n",
       "  </thead>\n",
       "  <tbody>\n",
       "    <tr>\n",
       "      <th>0</th>\n",
       "      <td>NaN</td>\n",
       "      <td>1</td>\n",
       "    </tr>\n",
       "    <tr>\n",
       "      <th>1</th>\n",
       "      <td>NaN</td>\n",
       "      <td>0</td>\n",
       "    </tr>\n",
       "    <tr>\n",
       "      <th>2</th>\n",
       "      <td>NaN</td>\n",
       "      <td>0</td>\n",
       "    </tr>\n",
       "    <tr>\n",
       "      <th>3</th>\n",
       "      <td>4.0</td>\n",
       "      <td>1</td>\n",
       "    </tr>\n",
       "    <tr>\n",
       "      <th>4</th>\n",
       "      <td>3.0</td>\n",
       "      <td>1</td>\n",
       "    </tr>\n",
       "    <tr>\n",
       "      <th>...</th>\n",
       "      <td>...</td>\n",
       "      <td>...</td>\n",
       "    </tr>\n",
       "    <tr>\n",
       "      <th>1092</th>\n",
       "      <td>NaN</td>\n",
       "      <td>0</td>\n",
       "    </tr>\n",
       "    <tr>\n",
       "      <th>1093</th>\n",
       "      <td>3.5</td>\n",
       "      <td>0</td>\n",
       "    </tr>\n",
       "    <tr>\n",
       "      <th>1094</th>\n",
       "      <td>2.0</td>\n",
       "      <td>0</td>\n",
       "    </tr>\n",
       "    <tr>\n",
       "      <th>1095</th>\n",
       "      <td>NaN</td>\n",
       "      <td>1</td>\n",
       "    </tr>\n",
       "    <tr>\n",
       "      <th>1096</th>\n",
       "      <td>4.0</td>\n",
       "      <td>1</td>\n",
       "    </tr>\n",
       "  </tbody>\n",
       "</table>\n",
       "<p>1097 rows × 2 columns</p>\n",
       "</div>"
      ],
      "text/plain": [
       "      The Wolf of Wall Street (2013)  \\\n",
       "0                                NaN   \n",
       "1                                NaN   \n",
       "2                                NaN   \n",
       "3                                4.0   \n",
       "4                                3.0   \n",
       "...                              ...   \n",
       "1092                             NaN   \n",
       "1093                             3.5   \n",
       "1094                             2.0   \n",
       "1095                             NaN   \n",
       "1096                             4.0   \n",
       "\n",
       "      Movies are best enjoyed alone (1: Yes; 0: No; -1: Did not respond)  \n",
       "0                                                     1                   \n",
       "1                                                     0                   \n",
       "2                                                     0                   \n",
       "3                                                     1                   \n",
       "4                                                     1                   \n",
       "...                                                 ...                   \n",
       "1092                                                  0                   \n",
       "1093                                                  0                   \n",
       "1094                                                  0                   \n",
       "1095                                                  1                   \n",
       "1096                                                  1                   \n",
       "\n",
       "[1097 rows x 2 columns]"
      ]
     },
     "execution_count": 2,
     "metadata": {},
     "output_type": "execute_result"
    }
   ],
   "source": [
    "# 1. Load the data \n",
    "df = pd.read_csv('movieReplicationSet.csv', sep=',')\n",
    "\n",
    "# 1a. Finding the index # for movie 'The Wolf of Wall Street (2013)' \n",
    "indexWolf = df.columns.get_loc('The Wolf of Wall Street (2013)')\n",
    "\n",
    "# 1b. Extract movie ratings for 'The Wolf of Wall Street (2013)' and \"Social viewing preference\" column (477)\n",
    "data = df.iloc[:,[indexWolf,476]]\n",
    "data"
   ]
  },
  {
   "cell_type": "code",
   "execution_count": 3,
   "id": "a148f70c",
   "metadata": {},
   "outputs": [
    {
     "data": {
      "text/plain": [
       "(3.5, 3.0)"
      ]
     },
     "execution_count": 3,
     "metadata": {},
     "output_type": "execute_result"
    }
   ],
   "source": [
    "# 2. Data Cleaning\n",
    "# 2a. Remove all NaN values, row-wise\n",
    "data_ = data.dropna()\n",
    "\n",
    "# 2b. Split the data into two groups: 1. alone (1), 2. together (0)\n",
    "# “movies are best enjoyed alone” (1 = y, 0 = n, -1 = nr) \n",
    "alone = data_[data_.iloc[:,1] == 1] \n",
    "together = data_[data_.iloc[:,1] == 0] \n",
    "\n",
    "# 2c. Get the median for both groups (descriptive statistics)\n",
    "alone_med = np.median(alone.iloc[:,0])\n",
    "together_med = np.median(together.iloc[:,0])\n",
    "\n",
    "alone_med, together_med"
   ]
  },
  {
   "cell_type": "code",
   "execution_count": 4,
   "id": "1229e6f1",
   "metadata": {},
   "outputs": [
    {
     "data": {
      "text/plain": [
       "(393, 2)"
      ]
     },
     "execution_count": 4,
     "metadata": {},
     "output_type": "execute_result"
    }
   ],
   "source": [
    "alone.shape"
   ]
  },
  {
   "cell_type": "code",
   "execution_count": 5,
   "id": "71f00ddf",
   "metadata": {},
   "outputs": [
    {
     "data": {
      "text/plain": [
       "(270, 2)"
      ]
     },
     "execution_count": 5,
     "metadata": {},
     "output_type": "execute_result"
    }
   ],
   "source": [
    "together.shape"
   ]
  },
  {
   "cell_type": "code",
   "execution_count": 28,
   "id": "c7e71968",
   "metadata": {},
   "outputs": [
    {
     "data": {
      "text/plain": [
       "(56806.5, 0.1127642933222891)"
      ]
     },
     "execution_count": 28,
     "metadata": {},
     "output_type": "execute_result"
    }
   ],
   "source": [
    "# 3. Mann-Whitney U test\n",
    "u,p = stats.mannwhitneyu(alone.iloc[:,0], together.iloc[:,0])\n",
    "u,p"
   ]
  },
  {
   "cell_type": "code",
   "execution_count": 29,
   "id": "8729d809",
   "metadata": {},
   "outputs": [
    {
     "data": {
      "image/png": "[encoded data removed]",
      "text/plain": [
       "<Figure size 432x288 with 2 Axes>"
      ]
     },
     "metadata": {
      "needs_background": "light"
     },
     "output_type": "display_data"
    }
   ],
   "source": [
    "plt.subplot(2,1,1)\n",
    "plt.hist(alone.iloc[:,0], bins=5)\n",
    "plt.subplot(2,1,2)\n",
    "plt.hist(together.iloc[:,0], bins=5)\n",
    "plt.show()"
   ]
  }
 ],
 "metadata": {
  "kernelspec": {
   "display_name": "Python 3.9.7 ('base')",
   "language": "python",
   "name": "python397jvsc74a57bd08af7a8d066b9432c27aa861ca989c334a302b4972589985b2eeb28f423a02b15"
  },
  "language_info": {
   "codemirror_mode": {
    "name": "ipython",
    "version": 3
   },
   "file_extension": ".py",
   "mimetype": "text/x-python",
   "name": "python",
   "nbconvert_exporter": "python",
   "pygments_lexer": "ipython3",
   "version": "3.9.7"
  }
 },
 "nbformat": 4,
 "nbformat_minor": 5
}
