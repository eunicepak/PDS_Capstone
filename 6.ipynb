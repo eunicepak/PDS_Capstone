{
 "cells": [
  {
   "cell_type": "code",
   "execution_count": 1,
   "id": "8c9b4f7c",
   "metadata": {},
   "outputs": [],
   "source": [
    "# There are ratings on movies from several franchises ([‘Star Wars’, ‘Harry Potter’, ‘The Matrix’,\n",
    "# ‘Indiana Jones’, ‘Jurassic Park’, ‘Pirates of the Caribbean’, ‘Toy Story’, ‘Batman’]) in this\n",
    "# dataset. How many of these are of inconsistent quality, as experienced by viewers?\n",
    "\n",
    "# 1. Load the data \n",
    "\n",
    "# 2. Cleaning the data\n",
    "# 2a. Remove all NaN values, row-wise\n",
    "# 2b. Reorder the columns oldest to newest \n",
    "# 2c. Descriptive Statistics\n",
    "\n",
    "# 3. Mann-Whitney U test\n",
    "\n",
    "# 4. Plotting"
   ]
  },
  {
   "cell_type": "code",
   "execution_count": 31,
   "id": "bd936aa6",
   "metadata": {},
   "outputs": [],
   "source": [
    "import numpy as np\n",
    "import pandas as pd\n",
    "from scipy import stats\n",
    "import matplotlib.pyplot as plt"
   ]
  },
  {
   "cell_type": "code",
   "execution_count": 33,
   "id": "843dd0f6",
   "metadata": {},
   "outputs": [
    {
     "data": {
      "text/html": [
       "<div>\n",
       "<style scoped>\n",
       "    .dataframe tbody tr th:only-of-type {\n",
       "        vertical-align: middle;\n",
       "    }\n",
       "\n",
       "    .dataframe tbody tr th {\n",
       "        vertical-align: top;\n",
       "    }\n",
       "\n",
       "    .dataframe thead th {\n",
       "        text-align: right;\n",
       "    }\n",
       "</style>\n",
       "<table border=\"1\" class=\"dataframe\">\n",
       "  <thead>\n",
       "    <tr style=\"text-align: right;\">\n",
       "      <th></th>\n",
       "      <th>Harry Potter and the Sorcerer's Stone (2001)</th>\n",
       "      <th>Harry Potter and the Deathly Hallows: Part 2 (2011)</th>\n",
       "      <th>Harry Potter and the Goblet of Fire (2005)</th>\n",
       "      <th>Harry Potter and the Chamber of Secrets (2002)</th>\n",
       "    </tr>\n",
       "  </thead>\n",
       "  <tbody>\n",
       "    <tr>\n",
       "      <th>0</th>\n",
       "      <td>NaN</td>\n",
       "      <td>NaN</td>\n",
       "      <td>0.0</td>\n",
       "      <td>0.5</td>\n",
       "    </tr>\n",
       "    <tr>\n",
       "      <th>1</th>\n",
       "      <td>4.0</td>\n",
       "      <td>NaN</td>\n",
       "      <td>NaN</td>\n",
       "      <td>4.0</td>\n",
       "    </tr>\n",
       "    <tr>\n",
       "      <th>2</th>\n",
       "      <td>4.0</td>\n",
       "      <td>3.5</td>\n",
       "      <td>4.0</td>\n",
       "      <td>3.5</td>\n",
       "    </tr>\n",
       "    <tr>\n",
       "      <th>3</th>\n",
       "      <td>2.0</td>\n",
       "      <td>2.0</td>\n",
       "      <td>2.5</td>\n",
       "      <td>2.5</td>\n",
       "    </tr>\n",
       "    <tr>\n",
       "      <th>4</th>\n",
       "      <td>NaN</td>\n",
       "      <td>NaN</td>\n",
       "      <td>NaN</td>\n",
       "      <td>NaN</td>\n",
       "    </tr>\n",
       "    <tr>\n",
       "      <th>...</th>\n",
       "      <td>...</td>\n",
       "      <td>...</td>\n",
       "      <td>...</td>\n",
       "      <td>...</td>\n",
       "    </tr>\n",
       "    <tr>\n",
       "      <th>1092</th>\n",
       "      <td>4.0</td>\n",
       "      <td>4.0</td>\n",
       "      <td>4.0</td>\n",
       "      <td>4.0</td>\n",
       "    </tr>\n",
       "    <tr>\n",
       "      <th>1093</th>\n",
       "      <td>4.0</td>\n",
       "      <td>4.0</td>\n",
       "      <td>3.5</td>\n",
       "      <td>3.5</td>\n",
       "    </tr>\n",
       "    <tr>\n",
       "      <th>1094</th>\n",
       "      <td>3.5</td>\n",
       "      <td>4.0</td>\n",
       "      <td>3.0</td>\n",
       "      <td>4.0</td>\n",
       "    </tr>\n",
       "    <tr>\n",
       "      <th>1095</th>\n",
       "      <td>3.0</td>\n",
       "      <td>NaN</td>\n",
       "      <td>3.0</td>\n",
       "      <td>2.5</td>\n",
       "    </tr>\n",
       "    <tr>\n",
       "      <th>1096</th>\n",
       "      <td>4.0</td>\n",
       "      <td>4.0</td>\n",
       "      <td>4.0</td>\n",
       "      <td>4.0</td>\n",
       "    </tr>\n",
       "  </tbody>\n",
       "</table>\n",
       "<p>1097 rows × 4 columns</p>\n",
       "</div>"
      ],
      "text/plain": [
       "      Harry Potter and the Sorcerer's Stone (2001)  \\\n",
       "0                                              NaN   \n",
       "1                                              4.0   \n",
       "2                                              4.0   \n",
       "3                                              2.0   \n",
       "4                                              NaN   \n",
       "...                                            ...   \n",
       "1092                                           4.0   \n",
       "1093                                           4.0   \n",
       "1094                                           3.5   \n",
       "1095                                           3.0   \n",
       "1096                                           4.0   \n",
       "\n",
       "      Harry Potter and the Deathly Hallows: Part 2 (2011)  \\\n",
       "0                                                   NaN     \n",
       "1                                                   NaN     \n",
       "2                                                   3.5     \n",
       "3                                                   2.0     \n",
       "4                                                   NaN     \n",
       "...                                                 ...     \n",
       "1092                                                4.0     \n",
       "1093                                                4.0     \n",
       "1094                                                4.0     \n",
       "1095                                                NaN     \n",
       "1096                                                4.0     \n",
       "\n",
       "      Harry Potter and the Goblet of Fire (2005)  \\\n",
       "0                                            0.0   \n",
       "1                                            NaN   \n",
       "2                                            4.0   \n",
       "3                                            2.5   \n",
       "4                                            NaN   \n",
       "...                                          ...   \n",
       "1092                                         4.0   \n",
       "1093                                         3.5   \n",
       "1094                                         3.0   \n",
       "1095                                         3.0   \n",
       "1096                                         4.0   \n",
       "\n",
       "      Harry Potter and the Chamber of Secrets (2002)  \n",
       "0                                                0.5  \n",
       "1                                                4.0  \n",
       "2                                                3.5  \n",
       "3                                                2.5  \n",
       "4                                                NaN  \n",
       "...                                              ...  \n",
       "1092                                             4.0  \n",
       "1093                                             3.5  \n",
       "1094                                             4.0  \n",
       "1095                                             2.5  \n",
       "1096                                             4.0  \n",
       "\n",
       "[1097 rows x 4 columns]"
      ]
     },
     "execution_count": 33,
     "metadata": {},
     "output_type": "execute_result"
    }
   ],
   "source": [
    "# 1. Load the data \n",
    "df = pd.read_csv('movieReplicationSet.csv', sep=',')\n",
    "\n",
    "data = df.loc[:,['Harry Potter' in i for i in df.columns]]\n",
    "data"
   ]
  },
  {
   "cell_type": "code",
   "execution_count": 34,
   "id": "627a0563",
   "metadata": {},
   "outputs": [],
   "source": [
    "# 2. Cleaning the data\n",
    "\n",
    "# 2a. Remove all NaN values, row-wise\n",
    "data_ = data.dropna()\n",
    "data_\n",
    "\n",
    "# 2b. Reorder the columns oldest to newest \n",
    "data_sorted = data_[[\"Harry Potter and the Sorcerer's Stone (2001)\", \"Harry Potter and the Chamber of Secrets (2002)\",\n",
    "                    \"Harry Potter and the Goblet of Fire (2005)\", \"Harry Potter and the Deathly Hallows: Part 2 (2011)\"]]"
   ]
  },
  {
   "cell_type": "code",
   "execution_count": 35,
   "id": "15ba9358",
   "metadata": {},
   "outputs": [
    {
     "data": {
      "text/plain": [
       "array([3.5, 3.5, 3.5, 3.5])"
      ]
     },
     "execution_count": 35,
     "metadata": {},
     "output_type": "execute_result"
    }
   ],
   "source": [
    "# 2c. Descriptive Statistics\n",
    "data_median = np.median(data_sorted, axis=0)\n",
    "data_mean = np.mean(data_sorted, axis=0)\n",
    "data_median"
   ]
  },
  {
   "cell_type": "code",
   "execution_count": 19,
   "id": "8bcb9436",
   "metadata": {},
   "outputs": [
    {
     "data": {
      "text/plain": [
       "(267607.5, 0.03249627616901361)"
      ]
     },
     "execution_count": 19,
     "metadata": {},
     "output_type": "execute_result"
    }
   ],
   "source": [
    "# 3. Mann-Whitney U test\n",
    "u1,p1 = stats.mannwhitneyu(data_sorted.iloc[:,0], data_sorted.iloc[:,1])\n",
    "u1,p1"
   ]
  },
  {
   "cell_type": "code",
   "execution_count": 24,
   "id": "fb638eef",
   "metadata": {},
   "outputs": [
    {
     "data": {
      "text/plain": [
       "(267035.0, 0.03956708944851482)"
      ]
     },
     "execution_count": 24,
     "metadata": {},
     "output_type": "execute_result"
    }
   ],
   "source": [
    "u2,p2 = stats.mannwhitneyu(data_sorted.iloc[:,0], data_sorted.iloc[:,2])\n",
    "u2,p2"
   ]
  },
  {
   "cell_type": "code",
   "execution_count": 25,
   "id": "9336fc49",
   "metadata": {},
   "outputs": [
    {
     "data": {
      "text/plain": [
       "(261733.5, 0.18199476405933168)"
      ]
     },
     "execution_count": 25,
     "metadata": {},
     "output_type": "execute_result"
    }
   ],
   "source": [
    "u3,p3 = stats.mannwhitneyu(data_sorted.iloc[:,0], data_sorted.iloc[:,3])\n",
    "u3,p3"
   ]
  },
  {
   "cell_type": "code",
   "execution_count": 26,
   "id": "bf828675",
   "metadata": {},
   "outputs": [
    {
     "data": {
      "text/plain": [
       "(251188.0, 0.9065980598085001)"
      ]
     },
     "execution_count": 26,
     "metadata": {},
     "output_type": "execute_result"
    }
   ],
   "source": [
    "u4,p4 = stats.mannwhitneyu(data_sorted.iloc[:,1], data_sorted.iloc[:,2])\n",
    "u4, p4"
   ]
  },
  {
   "cell_type": "code",
   "execution_count": 22,
   "id": "2599cdbe",
   "metadata": {},
   "outputs": [
    {
     "data": {
      "image/png": "[encoded data removed]",
      "text/plain": [
       "<Figure size 432x288 with 2 Axes>"
      ]
     },
     "metadata": {
      "needs_background": "light"
     },
     "output_type": "display_data"
    }
   ],
   "source": [
    "plt.subplot(2,1,1)\n",
    "plt.hist(data_sorted.iloc[:,0], bins=5)\n",
    "plt.subplot(2,1,2)\n",
    "plt.hist(data_sorted.iloc[:,3], bins=5)\n",
    "plt.show()"
   ]
  }
 ],
 "metadata": {
  "kernelspec": {
   "display_name": "Python 3 (ipykernel)",
   "language": "python",
   "name": "python3"
  },
  "language_info": {
   "codemirror_mode": {
    "name": "ipython",
    "version": 3
   },
   "file_extension": ".py",
   "mimetype": "text/x-python",
   "name": "python",
   "nbconvert_exporter": "python",
   "pygments_lexer": "ipython3",
   "version": "3.11.4"
  }
 },
 "nbformat": 4,
 "nbformat_minor": 5
}
